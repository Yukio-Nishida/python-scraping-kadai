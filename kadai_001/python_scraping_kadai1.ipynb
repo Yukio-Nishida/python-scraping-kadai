{
  "nbformat": 4,
  "nbformat_minor": 0,
  "metadata": {
    "colab": {
      "provenance": []
    },
    "kernelspec": {
      "name": "python3",
      "display_name": "Python 3"
    },
    "language_info": {
      "name": "python"
    }
  },
  "cells": [
    {
      "cell_type": "code",
      "source": [
        "!pip install requests beautifulsoup4"
      ],
      "metadata": {
        "colab": {
          "base_uri": "https://localhost:8080/"
        },
        "id": "nNaeaxWTFU-J",
        "outputId": "a751cc4b-faf8-4aa8-82a3-cc04ec316b95"
      },
      "execution_count": 21,
      "outputs": [
        {
          "output_type": "stream",
          "name": "stdout",
          "text": [
            "Requirement already satisfied: requests in /usr/local/lib/python3.10/dist-packages (2.32.3)\n",
            "Requirement already satisfied: beautifulsoup4 in /usr/local/lib/python3.10/dist-packages (4.12.3)\n",
            "Requirement already satisfied: charset-normalizer<4,>=2 in /usr/local/lib/python3.10/dist-packages (from requests) (3.4.0)\n",
            "Requirement already satisfied: idna<4,>=2.5 in /usr/local/lib/python3.10/dist-packages (from requests) (3.10)\n",
            "Requirement already satisfied: urllib3<3,>=1.21.1 in /usr/local/lib/python3.10/dist-packages (from requests) (2.2.3)\n",
            "Requirement already satisfied: certifi>=2017.4.17 in /usr/local/lib/python3.10/dist-packages (from requests) (2024.8.30)\n",
            "Requirement already satisfied: soupsieve>1.2 in /usr/local/lib/python3.10/dist-packages (from beautifulsoup4) (2.6)\n"
          ]
        }
      ]
    },
    {
      "cell_type": "code",
      "source": [
        "import requests\n",
        "from bs4 import BeautifulSoup"
      ],
      "metadata": {
        "id": "GGzc6gjeFqci"
      },
      "execution_count": 22,
      "outputs": []
    },
    {
      "cell_type": "code",
      "source": [
        "# タイトルを取得する対象のURL\n",
        "url = 'https://news.yahoo.co.jp/articles/36a0eafad9c35b6775ae12849ce4446e48567e29'"
      ],
      "metadata": {
        "id": "ylqTa8C9LwrA"
      },
      "execution_count": 23,
      "outputs": []
    },
    {
      "cell_type": "code",
      "source": [
        "# GETリクエストを送信し、HTMLを取得する\n",
        "response = requests.get(url)\n",
        "html_content = response.text"
      ],
      "metadata": {
        "id": "aeF05MA1L3on"
      },
      "execution_count": 25,
      "outputs": []
    },
    {
      "cell_type": "code",
      "source": [
        "# HTMLを解析する\n",
        "soup = BeautifulSoup(response.text, 'html.parser')"
      ],
      "metadata": {
        "id": "7RDCVw1IMEd0"
      },
      "execution_count": 26,
      "outputs": []
    },
    {
      "cell_type": "code",
      "source": [
        "article_body = soup.find(\"div\", class_=\"highLightSearchTarget\")"
      ],
      "metadata": {
        "id": "SheCts5hMZr2"
      },
      "execution_count": 27,
      "outputs": []
    },
    {
      "cell_type": "code",
      "source": [
        "text = article_body.get_text()"
      ],
      "metadata": {
        "id": "CmnYsAMeMlBk"
      },
      "execution_count": 28,
      "outputs": []
    },
    {
      "cell_type": "code",
      "source": [
        "print(text)"
      ],
      "metadata": {
        "colab": {
          "base_uri": "https://localhost:8080/"
        },
        "id": "LYhKxuOXMql0",
        "outputId": "018e4012-608e-4226-ee16-9bd3d12ec473"
      },
      "execution_count": 30,
      "outputs": [
        {
          "output_type": "stream",
          "name": "stdout",
          "text": [
            "17年、ソフトバンクの宮崎キャンプで笑顔を見せる松坂（左）と和田　ここまで投げ続けてくれて、ありがとう――。元西武の松坂大輔氏（44＝スポニチ本紙評論家）が、現役引退を決めたソフトバンクの和田をねぎらうとともに、感謝の思いを伝えた。同学年で「松坂世代」の現役最後のとりで。今後も同世代で野球界、スポーツ界を盛り上げていくことを誓い合った。\n",
            "\n",
            "【写真あり】松坂大輔氏　和田毅ら超豪華メンバー5S披露に「すごいメンツ」\n",
            "\n",
            "　本人から事前に連絡をもらい、電話口で毅が下した決断を聞いて、自分からは感謝の気持ちを伝えました。同世代。最後のとりでとして、ここまで投げ続けてくれて本当にありがとう、と。あとは米国式に、引退おめでとうとも言いました。\n",
            "\n",
            "　来季も現役を続けると思っていましたし、毅から連絡をもらった時は「まさか」という感じでした。本人が考えに考え抜いた末にたどり着いた結論だと思います。毅のボールを見ても、まだまだ1軍で投げられる。ただ、投げ続けるための体力、コンディションを維持するのが難しかったのでしょう。今年は故障もあって悔しいシーズン。来年、日本一奪回に向けてまた気持ちと体をつくっていく。言葉にするのは簡単ですが、44歳という年齢で心と体の両方をもう一度追い込むのは簡単ではないのだな、と改めて思いました。\n",
            "\n",
            "　自分は日米通算170勝で、毅が165勝。並んで、抜いてほしいと本人にも伝えていましたし、あっさりと抜いていくと思っていましたが、毅は「めちゃくちゃ遠かったよ！」と笑っていました。ただ「やり切った」と言っていましたし、納得してユニホームを脱ぐことができるはず。これまで成し遂げてきたことは誇りに思っているでしょう。\n",
            "\n",
            "　現役時代は何度も投げ合いました。マウンド上の毅の姿、その投球に引っ張られて自分もいいピッチングができたように思います。お互いに投げながら意地の張り合い。それが2人にとってプラスに作用したんだな、と今でも感じています。\n",
            "\n",
            "　普段は物静かでも、野球の話になると熱くなる男。来年からは同世代で現役選手はいなくなりますが、毅とは「これからも同世代で力を合わせて、違う形で野球界、スポーツ界を盛り上げていきたいね」という話をしました。日米合わせて22年間の現役生活、本当にお疲れさまでした。（スポニチ本紙評論家）\n"
          ]
        }
      ]
    }
  ]
}